{
 "cells": [
  {
   "cell_type": "code",
   "execution_count": null,
   "id": "5f762d50",
   "metadata": {},
   "outputs": [
    {
     "data": {
      "text/html": [
       "\n",
       "        <iframe\n",
       "            width=\"100%\"\n",
       "            height=\"650\"\n",
       "            src=\"http://127.0.0.1:8050/\"\n",
       "            frameborder=\"0\"\n",
       "            allowfullscreen\n",
       "            \n",
       "        ></iframe>\n",
       "        "
      ],
      "text/plain": [
       "<IPython.lib.display.IFrame at 0x217996df230>"
      ]
     },
     "metadata": {},
     "output_type": "display_data"
    }
   ],
   "source": [
    "import dash\n",
    "from dash import html, dcc\n",
    "from dash.dependencies import Input, Output\n",
    "import plotly.express as px\n",
    "\n"
   ]
  },
  {
   "cell_type": "code",
   "execution_count": 32,
   "id": "85c08a5b",
   "metadata": {},
   "outputs": [],
   "source": [
    "\n",
    "df = px.data.gapminder().query(\"year == 2007\")\n",
    "\n",
    "# Create a choropleth map\n",
    "fig = px.choropleth(\n",
    "    df,\n",
    "    locations=\"iso_alpha\",        \n",
    "    color=\"country\",              \n",
    "    hover_name=\"country\",         \n",
    "    scope=\"world\",\n",
    "    title=\"News around the World\"\n",
    ")\n",
    "\n",
    "# Initialize Dash app\n",
    "app = dash.Dash(__name__)\n",
    "\n",
    "# App layout\n",
    "app.layout = html.Div([\n",
    "    dcc.Graph(id='choropleth-map', figure=fig),\n",
    "    html.Div(id='click-output', style={'padding': '20px', 'fontSize': '20px','background-color':'white'})\n",
    "])"
   ]
  },
  {
   "cell_type": "code",
   "execution_count": 33,
   "id": "071e2b8d",
   "metadata": {},
   "outputs": [
    {
     "data": {
      "text/html": [
       "\n",
       "        <iframe\n",
       "            width=\"100%\"\n",
       "            height=\"650\"\n",
       "            src=\"http://127.0.0.1:8050/\"\n",
       "            frameborder=\"0\"\n",
       "            allowfullscreen\n",
       "            \n",
       "        ></iframe>\n",
       "        "
      ],
      "text/plain": [
       "<IPython.lib.display.IFrame at 0x2179a3e3d40>"
      ]
     },
     "metadata": {},
     "output_type": "display_data"
    }
   ],
   "source": [
    "\n",
    "@app.callback(\n",
    "    Output('click-output', 'children'),\n",
    "    Input('choropleth-map', 'clickData')\n",
    ")\n",
    "def display_click_data(clickData):\n",
    "    if clickData and 'points' in clickData:\n",
    "        point = clickData['points'][0]\n",
    "        iso_code = point.get('location', 'N/A')  # ISO alpha-3 code\n",
    "        country = point.get('hovertext', 'Unknown Country')  # Country name from hover\n",
    "        return html.Div (id ='country clicked' ,children=f\"You clicked on: {country} (ISO: {iso_code})\")\n",
    "    else:\n",
    "        return \"Click on a region to see its data.\"\n",
    "\n",
    "# Run the app\n",
    "\n",
    "app.run(debug=True)"
   ]
  },
  {
   "cell_type": "code",
   "execution_count": 5,
   "id": "5e6c118d",
   "metadata": {},
   "outputs": [
    {
     "data": {
      "text/html": [
       "\n",
       "        <iframe\n",
       "            width=\"100%\"\n",
       "            height=\"650\"\n",
       "            src=\"http://127.0.0.1:8050/\"\n",
       "            frameborder=\"0\"\n",
       "            allowfullscreen\n",
       "            \n",
       "        ></iframe>\n",
       "        "
      ],
      "text/plain": [
       "<IPython.lib.display.IFrame at 0x139326ceea0>"
      ]
     },
     "metadata": {},
     "output_type": "display_data"
    }
   ],
   "source": [
    "import dash\n",
    "from dash import html, dcc\n",
    "from dash.dependencies import Input, Output\n",
    "import plotly.express as px\n",
    "from datetime import datetime\n",
    "import pandas as pd\n",
    "\n",
    "df = px.data.gapminder().query(\"year == 2007\")\n",
    "\n",
    "# Create a choropleth map\n",
    "fig = px.choropleth(\n",
    "    df,\n",
    "    locations=\"iso_alpha\",        \n",
    "    color=\"country\",              \n",
    "    hover_name=\"country\",         \n",
    "    scope=\"world\",\n",
    "    title=\"News around the World\"\n",
    ")\n",
    "\n",
    "# Initialize Dash app\n",
    "app = dash.Dash(__name__)\n",
    "\n",
    "# App layout\n",
    "app.layout = html.Div([\n",
    "    html.H1(\"Top Global News Dashboard\", style = {'textAlign': 'center','background-color':'white'}),\n",
    "    html.P(\"Please click on a country in the map to get the top headlines for the last 24 hours in that country.\", \n",
    "       style={'textAlign': 'center', 'fontSize': '20px','background-color':'white'}),\n",
    "    dcc.Graph(id='choropleth-map', figure=fig),\n",
    "    html.Div(id='click-output', style={'padding': '20px', 'fontSize': '20px','background-color':'white'}),\n",
    "    html.Footer(\"Made by Arjun, Nischal, Kanishk\", style={'textAlign': 'center', 'marginTop': '50px', 'fontSize': '12px', 'color': 'black','background-color':'white'}),\n",
    "    html.Div(f\"Last Updated: {datetime.now().strftime('%Y-%m-%d %H:%M:%S')}\", style = {\n",
    "        'textAlign': 'right',\n",
    "        'fontSize': '10px',\n",
    "        'color': 'black'\n",
    "    })\n",
    "], style={'background-color':'white'})\n",
    "\n",
    "\n",
    "@app.callback(\n",
    "    Output('click-output', 'children'),\n",
    "    Input('choropleth-map', 'clickData')\n",
    ")\n",
    "def display_click_data(clickData):\n",
    "    if clickData and 'points' in clickData:\n",
    "        point = clickData['points'][0]\n",
    "        iso_code = point.get('location', 'N/A')  # ISO alpha-3 code\n",
    "        country = point.get('hovertext', 'Unknown Country')  # Country name from hover\n",
    "        return html.Div (id ='country clicked' ,children=f\"You clicked on: {country} (ISO: {iso_code})\")\n",
    "    else:\n",
    "        return \"Click on a region to see its data.\"\n",
    "\n",
    "# Run the app\n",
    "\n",
    "app.run(debug=True)"
   ]
  }
 ],
 "metadata": {
  "kernelspec": {
   "display_name": "Python 3",
   "language": "python",
   "name": "python3"
  },
  "language_info": {
   "codemirror_mode": {
    "name": "ipython",
    "version": 3
   },
   "file_extension": ".py",
   "mimetype": "text/x-python",
   "name": "python",
   "nbconvert_exporter": "python",
   "pygments_lexer": "ipython3",
   "version": "3.13.5"
  }
 },
 "nbformat": 4,
 "nbformat_minor": 5
}
